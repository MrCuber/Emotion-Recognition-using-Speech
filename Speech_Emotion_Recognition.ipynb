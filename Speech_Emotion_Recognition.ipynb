{
  "nbformat": 4,
  "nbformat_minor": 0,
  "metadata": {
    "colab": {
      "provenance": [],
      "authorship_tag": "ABX9TyOoORc0UZNK+6hshPQuOu0a",
      "include_colab_link": true
    },
    "kernelspec": {
      "name": "python3",
      "display_name": "Python 3"
    },
    "language_info": {
      "name": "python"
    }
  },
  "cells": [
    {
      "cell_type": "markdown",
      "metadata": {
        "id": "view-in-github",
        "colab_type": "text"
      },
      "source": [
        "<a href=\"https://colab.research.google.com/github/MeghanaPulipaka/Speech-Emotion-Recognition/blob/main/Speech_Emotion_Recognition.ipynb\" target=\"_parent\"><img src=\"https://colab.research.google.com/assets/colab-badge.svg\" alt=\"Open In Colab\"/></a>"
      ]
    },
    {
      "cell_type": "markdown",
      "source": [
        "# Speech Emotion Recognition Project"
      ],
      "metadata": {
        "id": "Fop0PWDyvNZF"
      }
    },
    {
      "cell_type": "markdown",
      "source": [
        "## Contributors to this project:\n",
        "\n",
        "<b>\n",
        "<li>Umesh Chandra Sakinala - 21BCE1782\n",
        "<li>Sujan Kumar Sollety - 21BCE5667\n",
        "<li>Harshith Simha Gurram - 21BCE5653\n",
        "<li>Pulipaka Phani Meghana - 21BCE1345\n",
        "<li>Pandithradhyula Soumya - 21BCE1424\n",
        "</b>"
      ],
      "metadata": {
        "id": "Ol7UU_KGzPrc"
      }
    },
    {
      "cell_type": "code",
      "execution_count": null,
      "metadata": {
        "id": "a0rq1CFcu1FB"
      },
      "outputs": [],
      "source": []
    }
  ]
}
